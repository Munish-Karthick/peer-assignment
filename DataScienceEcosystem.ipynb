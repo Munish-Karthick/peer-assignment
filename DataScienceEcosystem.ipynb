{
 "cells": [
  {
   "cell_type": "markdown",
   "id": "d9c40c01",
   "metadata": {},
   "source": [
    "# Data Science Tools and ecosystem\n"
   ]
  },
  {
   "cell_type": "markdown",
   "id": "6692fb9e",
   "metadata": {},
   "source": [
    "In this notebook, data science tools and extension are summarized."
   ]
  },
  {
   "cell_type": "markdown",
   "id": "62cf0ae1",
   "metadata": {},
   "source": [
    "###### Objectives:"
   ]
  },
  {
   "cell_type": "markdown",
   "id": "ba8ebe7d",
   "metadata": {},
   "source": [
    "Some of the popular languages that DS uses are \n",
    "1. Python\n",
    "2. R\n",
    "3. Scala"
   ]
  },
  {
   "cell_type": "markdown",
   "id": "ebc6d951",
   "metadata": {},
   "source": [
    "Some of the commonly used libraries by Data scientist include:\n",
    "1. Matplotlib\n",
    "2. Scikit\n",
    "3. Numpy\n",
    "4. Pandas"
   ]
  },
  {
   "cell_type": "markdown",
   "id": "28d11ac4",
   "metadata": {},
   "source": [
    "|Data science tools|\n",
    "|:-----------------|\n",
    "|Apache spark      |\n",
    "|hadoop            |\n",
    "|TensorFlow        |"
   ]
  },
  {
   "cell_type": "markdown",
   "id": "b2064c7b",
   "metadata": {},
   "source": [
    "### Below are a  few examples of evaluating arithmetic expressions in Python."
   ]
  },
  {
   "cell_type": "code",
   "execution_count": 12,
   "id": "cfc789cf",
   "metadata": {},
   "outputs": [
    {
     "data": {
      "text/plain": [
       "17"
      ]
     },
     "execution_count": 12,
     "metadata": {},
     "output_type": "execute_result"
    }
   ],
   "source": [
    "###This is a simple arithmetic expressions to multiply then add integers\n",
    "(3*4)+5"
   ]
  },
  {
   "cell_type": "code",
   "execution_count": 15,
   "id": "7767f3fc",
   "metadata": {},
   "outputs": [
    {
     "name": "stdout",
     "output_type": "stream",
     "text": [
      "3.3333333333333335\n"
     ]
    }
   ],
   "source": [
    "###this will count 200 minutes to hours by dividing by 60.\n",
    "Minutes=200\n",
    "Hours=Minutes/60\n",
    "print(Hours)"
   ]
  },
  {
   "cell_type": "markdown",
   "id": "2d45653f",
   "metadata": {},
   "source": [
    "## Author\n",
    "Munish Karthick P"
   ]
  }
 ],
 "metadata": {
  "kernelspec": {
   "display_name": "Python 3 (ipykernel)",
   "language": "python",
   "name": "python3"
  },
  "language_info": {
   "codemirror_mode": {
    "name": "ipython",
    "version": 3
   },
   "file_extension": ".py",
   "mimetype": "text/x-python",
   "name": "python",
   "nbconvert_exporter": "python",
   "pygments_lexer": "ipython3",
   "version": "3.9.13"
  }
 },
 "nbformat": 4,
 "nbformat_minor": 5
}
